{
  "nbformat": 4,
  "nbformat_minor": 0,
  "metadata": {
    "colab": {
      "provenance": [],
      "authorship_tag": "ABX9TyM8IKW/5toZUYyQdTLhqpQF",
      "include_colab_link": true
    },
    "kernelspec": {
      "name": "python3",
      "display_name": "Python 3"
    },
    "language_info": {
      "name": "python"
    }
  },
  "cells": [
    {
      "cell_type": "markdown",
      "metadata": {
        "id": "view-in-github",
        "colab_type": "text"
      },
      "source": [
        "<a href=\"https://colab.research.google.com/github/ra9771/python_Practice/blob/main/class%26obj_3.ipynb\" target=\"_parent\"><img src=\"https://colab.research.google.com/assets/colab-badge.svg\" alt=\"Open In Colab\"/></a>"
      ]
    },
    {
      "cell_type": "code",
      "execution_count": 3,
      "metadata": {
        "colab": {
          "base_uri": "https://localhost:8080/"
        },
        "id": "fKUHSI96kbbh",
        "outputId": "5763acf0-d703-4bd3-fafd-292a7bc56722"
      },
      "outputs": [
        {
          "output_type": "stream",
          "name": "stdout",
          "text": [
            "senderName :Rahul Singh\n",
            "emojiUsed: only wife is allow to access\n"
          ]
        }
      ],
      "source": [
        "class loveLetter:\n",
        "  def __init__(self):\n",
        "    self.senderName = \"Rahul Singh\"                           #public\n",
        "    self.__message = \"I am Lucky, because u are my Pookie\"    #private\n",
        "    self._emojiUsed = \"only wife is allow to access\"          #protected\n",
        "\n",
        "class wife(loveLetter):\n",
        "  def read_love_letter(self):\n",
        "    print(f\"senderName :{self.senderName}\")\n",
        "    print(f\"emojiUsed: {self._emojiUsed}\")\n",
        "\n",
        "if __name__ == \"__main__\":\n",
        "  alia = wife()\n",
        "  alia.read_love_letter()"
      ]
    }
  ]
}