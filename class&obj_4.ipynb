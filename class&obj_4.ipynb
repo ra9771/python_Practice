{
  "nbformat": 4,
  "nbformat_minor": 0,
  "metadata": {
    "colab": {
      "provenance": [],
      "authorship_tag": "ABX9TyNJ6jHu9E7iymnnVFNI0fI+",
      "include_colab_link": true
    },
    "kernelspec": {
      "name": "python3",
      "display_name": "Python 3"
    },
    "language_info": {
      "name": "python"
    }
  },
  "cells": [
    {
      "cell_type": "markdown",
      "metadata": {
        "id": "view-in-github",
        "colab_type": "text"
      },
      "source": [
        "<a href=\"https://colab.research.google.com/github/ra9771/python_Practice/blob/main/class%26obj_4.ipynb\" target=\"_parent\"><img src=\"https://colab.research.google.com/assets/colab-badge.svg\" alt=\"Open In Colab\"/></a>"
      ]
    },
    {
      "cell_type": "code",
      "execution_count": 2,
      "metadata": {
        "colab": {
          "base_uri": "https://localhost:8080/"
        },
        "id": "K9YF-VSBrDXk",
        "outputId": "02ea30c0-f2d7-44ca-c290-43ec0c01c357"
      },
      "outputs": [
        {
          "output_type": "stream",
          "name": "stdout",
          "text": [
            "Akshay bought 4kg Bhindi. No discounts yaar.\n",
            "Akshay got 3kg Aloo with 10% off! Smart player!\n",
            "\n",
            "..Code by Rahul Singh..\n"
          ]
        }
      ],
      "source": [
        "class SabziCart:\n",
        "    def __init__(self, sabzi_name, quantity, discount=0):\n",
        "        self.sabzi_name = sabzi_name  # Fixed typo here\n",
        "        self.quantity = quantity\n",
        "        self.discount = discount\n",
        "        self.has_discount = discount > 0\n",
        "\n",
        "    def printBill(self):\n",
        "        if self.has_discount:\n",
        "            print(f\"Akshay got {self.quantity}kg {self.sabzi_name} with {self.discount}% off! Smart player!\")\n",
        "        else:\n",
        "            print(f\"Akshay bought {self.quantity}kg {self.sabzi_name}. No discounts yaar.\")\n",
        "\n",
        "# Test cases:\n",
        "cart1 = SabziCart(\"Bhindi\", 4)\n",
        "cart1.printBill()\n",
        "\n",
        "cart2 = SabziCart(\"Aloo\", 3, 10)\n",
        "cart2.printBill()\n",
        "\n",
        "print(\"\\n..Code by Rahul Singh..\")\n"
      ]
    }
  ]
}