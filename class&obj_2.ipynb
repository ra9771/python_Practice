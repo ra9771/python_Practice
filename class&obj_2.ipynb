{
  "nbformat": 4,
  "nbformat_minor": 0,
  "metadata": {
    "colab": {
      "provenance": [],
      "authorship_tag": "ABX9TyNJ1a3Lu1GDlLr+yTSUBbWE",
      "include_colab_link": true
    },
    "kernelspec": {
      "name": "python3",
      "display_name": "Python 3"
    },
    "language_info": {
      "name": "python"
    }
  },
  "cells": [
    {
      "cell_type": "markdown",
      "metadata": {
        "id": "view-in-github",
        "colab_type": "text"
      },
      "source": [
        "<a href=\"https://colab.research.google.com/github/ra9771/python_Practice/blob/main/class%26obj_2.ipynb\" target=\"_parent\"><img src=\"https://colab.research.google.com/assets/colab-badge.svg\" alt=\"Open In Colab\"/></a>"
      ]
    },
    {
      "cell_type": "code",
      "execution_count": 2,
      "metadata": {
        "colab": {
          "base_uri": "https://localhost:8080/"
        },
        "id": "rrIvGA9SiHE3",
        "outputId": "cfcf783a-2f6c-4ec8-8eb3-1b79672e66d5"
      },
      "outputs": [
        {
          "output_type": "stream",
          "name": "stdout",
          "text": [
            "Bhai ki chaati: 52 inches – time to level up, bhai!\n"
          ]
        }
      ],
      "source": [
        "class Gym:\n",
        "  def __init__(self,chestSize):\n",
        "    self.chestSize = chestSize\n",
        "\n",
        "class Trainer:\n",
        "  def check_chest_size(self,Gym):\n",
        "    print(\"Bhai ki chaati: 52 inches – time to level up, bhai!\")\n",
        "\n",
        "if __name__ ==\"__main__\":\n",
        "  g = Gym(52)\n",
        "  t = Trainer()\n",
        "  t.check_chest_size(g)"
      ]
    }
  ]
}