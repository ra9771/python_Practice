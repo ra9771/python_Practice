{
  "nbformat": 4,
  "nbformat_minor": 0,
  "metadata": {
    "colab": {
      "provenance": [],
      "authorship_tag": "ABX9TyMdqa/Gv5n+tE9xYYF3IgoW",
      "include_colab_link": true
    },
    "kernelspec": {
      "name": "python3",
      "display_name": "Python 3"
    },
    "language_info": {
      "name": "python"
    }
  },
  "cells": [
    {
      "cell_type": "markdown",
      "metadata": {
        "id": "view-in-github",
        "colab_type": "text"
      },
      "source": [
        "<a href=\"https://colab.research.google.com/github/ra9771/python_Practice/blob/main/class%26obj_5.ipynb\" target=\"_parent\"><img src=\"https://colab.research.google.com/assets/colab-badge.svg\" alt=\"Open In Colab\"/></a>"
      ]
    },
    {
      "cell_type": "code",
      "execution_count": 5,
      "metadata": {
        "colab": {
          "base_uri": "https://localhost:8080/"
        },
        "id": "tMp4gYj1vM0J",
        "outputId": "2de2e1dc-4df2-497e-c036-6d070793df4b"
      },
      "outputs": [
        {
          "output_type": "stream",
          "name": "stdout",
          "text": [
            "Pyaar express: From Rahul_Singh -> To Deepika (revealed by Ranveer!)\n"
          ]
        }
      ],
      "source": [
        "class LoveLetter:\n",
        "    def __init__(self, sender):\n",
        "        self.__sender = sender  # Private attribute\n",
        "\n",
        "    def revealSecretLover(self):\n",
        "        print(f\"Pyaar express: From {self.__sender} -> To Deepika (revealed by Ranveer!)\")\n",
        "\n",
        "if __name__ == \"__main__\":\n",
        "    L = LoveLetter(\"Rahul_Singh\")\n",
        "    L.revealSecretLover()  # Call the method on the instance\n"
      ]
    }
  ]
}