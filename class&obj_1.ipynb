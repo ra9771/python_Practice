{
  "nbformat": 4,
  "nbformat_minor": 0,
  "metadata": {
    "colab": {
      "provenance": [],
      "authorship_tag": "ABX9TyNi1lHDAj/4CQA3bpwuGa8d",
      "include_colab_link": true
    },
    "kernelspec": {
      "name": "python3",
      "display_name": "Python 3"
    },
    "language_info": {
      "name": "python"
    }
  },
  "cells": [
    {
      "cell_type": "markdown",
      "metadata": {
        "id": "view-in-github",
        "colab_type": "text"
      },
      "source": [
        "<a href=\"https://colab.research.google.com/github/ra9771/python_Practice/blob/main/class%26obj_1.ipynb\" target=\"_parent\"><img src=\"https://colab.research.google.com/assets/colab-badge.svg\" alt=\"Open In Colab\"/></a>"
      ]
    },
    {
      "cell_type": "code",
      "execution_count": 5,
      "metadata": {
        "colab": {
          "base_uri": "https://localhost:8080/"
        },
        "id": "6uxtVHwDgKys",
        "outputId": "117152a6-0539-4a03-93aa-acd8c0945888"
      },
      "outputs": [
        {
          "output_type": "stream",
          "name": "stdout",
          "text": [
            "SRK met Kajol at( 100 200 )... Ishq wala love!\n"
          ]
        }
      ],
      "source": [
        "class DiwaliMeetingPoint:\n",
        "    def __init__(self,x,y):\n",
        "        self.x = x\n",
        "        self.y = y\n",
        "\n",
        "    def display(self):\n",
        "        print(\"SRK met Kajol at(\",self.x,self.y,\")... Ishq wala love!\")\n",
        "\n",
        "if __name__==\"__main__\":\n",
        "    d = DiwaliMeetingPoint(100,200)\n",
        "    d.display()"
      ]
    }
  ]
}